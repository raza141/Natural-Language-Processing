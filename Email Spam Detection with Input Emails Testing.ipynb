{
 "cells": [
  {
   "cell_type": "markdown",
   "id": "a77af3ea",
   "metadata": {
    "id": "Bdn4wXVxqILg",
    "papermill": {
     "duration": 0.013122,
     "end_time": "2023-08-01T11:39:07.499814",
     "exception": false,
     "start_time": "2023-08-01T11:39:07.486692",
     "status": "completed"
    },
    "tags": []
   },
   "source": [
    "# EMAIL SPAM DETECTION WITH MACHINE LEARNING\n",
    "\n"
   ]
  },
  {
   "cell_type": "markdown",
   "id": "c3f8b67f",
   "metadata": {
    "id": "7R3H_RBDqAtA",
    "papermill": {
     "duration": 0.011955,
     "end_time": "2023-08-01T11:39:07.524425",
     "exception": false,
     "start_time": "2023-08-01T11:39:07.512470",
     "status": "completed"
    },
    "tags": []
   },
   "source": [
    "The code implements an email spam detection system using machine learning. It loads email data from a CSV file, preprocesses the data, and then trains a logistic regression classifier to distinguish between spam and ham emails."
   ]
  },
  {
   "cell_type": "code",
   "execution_count": 31,
   "id": "7f0b5c0a",
   "metadata": {
    "execution": {
     "iopub.execute_input": "2023-08-01T11:39:07.551178Z",
     "iopub.status.busy": "2023-08-01T11:39:07.550493Z",
     "iopub.status.idle": "2023-08-01T11:39:09.695569Z",
     "shell.execute_reply": "2023-08-01T11:39:09.694401Z"
    },
    "id": "Lldc9YjVSlso",
    "papermill": {
     "duration": 2.161704,
     "end_time": "2023-08-01T11:39:09.698443",
     "exception": false,
     "start_time": "2023-08-01T11:39:07.536739",
     "status": "completed"
    },
    "tags": []
   },
   "outputs": [],
   "source": [
    "# Import necessary libraries\n",
    "\n",
    "import pandas as pd\n",
    "import numpy as np\n",
    "from sklearn.model_selection import train_test_split\n",
    "from sklearn.feature_extraction.text import TfidfVectorizer\n",
    "from sklearn.linear_model import LogisticRegression\n",
    "from sklearn.metrics import accuracy_score\n",
    "import nltk\n",
    "from nltk.corpus import stopwords\n",
    "\n",
    "\n",
    "# Libraries for visualisation\n",
    "\n",
    "import matplotlib.pyplot as plt\n",
    "import seaborn as sns"
   ]
  },
  {
   "cell_type": "code",
   "execution_count": 32,
   "id": "d47202fb",
   "metadata": {
    "execution": {
     "iopub.execute_input": "2023-08-01T11:39:09.726775Z",
     "iopub.status.busy": "2023-08-01T11:39:09.726393Z",
     "iopub.status.idle": "2023-08-01T11:39:09.813156Z",
     "shell.execute_reply": "2023-08-01T11:39:09.812197Z"
    },
    "id": "BsPNYov7msic",
    "outputId": "e90d2bf4-9781-4c93-a360-00b604492fd8",
    "papermill": {
     "duration": 0.104767,
     "end_time": "2023-08-01T11:39:09.817290",
     "exception": false,
     "start_time": "2023-08-01T11:39:09.712523",
     "status": "completed"
    },
    "tags": []
   },
   "outputs": [
    {
     "name": "stderr",
     "output_type": "stream",
     "text": [
      "[nltk_data] Downloading package stopwords to C:\\Users\\USMAN\n",
      "[nltk_data]     AHMAD\\AppData\\Roaming\\nltk_data...\n",
      "[nltk_data]   Package stopwords is already up-to-date!\n"
     ]
    },
    {
     "data": {
      "text/plain": [
       "True"
      ]
     },
     "execution_count": 32,
     "metadata": {},
     "output_type": "execute_result"
    }
   ],
   "source": [
    "# Download the stopwords dataset\n",
    "\n",
    "nltk.download('stopwords')"
   ]
  },
  {
   "cell_type": "code",
   "execution_count": 33,
   "id": "5bd3133a",
   "metadata": {
    "execution": {
     "iopub.execute_input": "2023-08-01T11:39:09.844927Z",
     "iopub.status.busy": "2023-08-01T11:39:09.844224Z",
     "iopub.status.idle": "2023-08-01T11:39:09.902925Z",
     "shell.execute_reply": "2023-08-01T11:39:09.901763Z"
    },
    "id": "Pyrih9F_nHce",
    "outputId": "a701835d-a4df-4dea-d173-307bc91c1764",
    "papermill": {
     "duration": 0.075051,
     "end_time": "2023-08-01T11:39:09.905267",
     "exception": false,
     "start_time": "2023-08-01T11:39:09.830216",
     "status": "completed"
    },
    "tags": []
   },
   "outputs": [
    {
     "data": {
      "text/html": [
       "<div>\n",
       "<style scoped>\n",
       "    .dataframe tbody tr th:only-of-type {\n",
       "        vertical-align: middle;\n",
       "    }\n",
       "\n",
       "    .dataframe tbody tr th {\n",
       "        vertical-align: top;\n",
       "    }\n",
       "\n",
       "    .dataframe thead th {\n",
       "        text-align: right;\n",
       "    }\n",
       "</style>\n",
       "<table border=\"1\" class=\"dataframe\">\n",
       "  <thead>\n",
       "    <tr style=\"text-align: right;\">\n",
       "      <th></th>\n",
       "      <th>Category</th>\n",
       "      <th>Message</th>\n",
       "    </tr>\n",
       "  </thead>\n",
       "  <tbody>\n",
       "    <tr>\n",
       "      <th>0</th>\n",
       "      <td>ham</td>\n",
       "      <td>Go until jurong point, crazy.. Available only ...</td>\n",
       "    </tr>\n",
       "    <tr>\n",
       "      <th>1</th>\n",
       "      <td>ham</td>\n",
       "      <td>Ok lar... Joking wif u oni...</td>\n",
       "    </tr>\n",
       "    <tr>\n",
       "      <th>2</th>\n",
       "      <td>spam</td>\n",
       "      <td>Free entry in 2 a wkly comp to win FA Cup fina...</td>\n",
       "    </tr>\n",
       "    <tr>\n",
       "      <th>3</th>\n",
       "      <td>ham</td>\n",
       "      <td>U dun say so early hor... U c already then say...</td>\n",
       "    </tr>\n",
       "    <tr>\n",
       "      <th>4</th>\n",
       "      <td>ham</td>\n",
       "      <td>Nah I don't think he goes to usf, he lives aro...</td>\n",
       "    </tr>\n",
       "    <tr>\n",
       "      <th>...</th>\n",
       "      <td>...</td>\n",
       "      <td>...</td>\n",
       "    </tr>\n",
       "    <tr>\n",
       "      <th>5567</th>\n",
       "      <td>spam</td>\n",
       "      <td>This is the 2nd time we have tried 2 contact u...</td>\n",
       "    </tr>\n",
       "    <tr>\n",
       "      <th>5568</th>\n",
       "      <td>ham</td>\n",
       "      <td>Will ü b going to esplanade fr home?</td>\n",
       "    </tr>\n",
       "    <tr>\n",
       "      <th>5569</th>\n",
       "      <td>ham</td>\n",
       "      <td>Pity, * was in mood for that. So...any other s...</td>\n",
       "    </tr>\n",
       "    <tr>\n",
       "      <th>5570</th>\n",
       "      <td>ham</td>\n",
       "      <td>The guy did some bitching but I acted like i'd...</td>\n",
       "    </tr>\n",
       "    <tr>\n",
       "      <th>5571</th>\n",
       "      <td>ham</td>\n",
       "      <td>Rofl. Its true to its name</td>\n",
       "    </tr>\n",
       "  </tbody>\n",
       "</table>\n",
       "<p>5572 rows × 2 columns</p>\n",
       "</div>"
      ],
      "text/plain": [
       "     Category                                            Message\n",
       "0         ham  Go until jurong point, crazy.. Available only ...\n",
       "1         ham                      Ok lar... Joking wif u oni...\n",
       "2        spam  Free entry in 2 a wkly comp to win FA Cup fina...\n",
       "3         ham  U dun say so early hor... U c already then say...\n",
       "4         ham  Nah I don't think he goes to usf, he lives aro...\n",
       "...       ...                                                ...\n",
       "5567     spam  This is the 2nd time we have tried 2 contact u...\n",
       "5568      ham               Will ü b going to esplanade fr home?\n",
       "5569      ham  Pity, * was in mood for that. So...any other s...\n",
       "5570      ham  The guy did some bitching but I acted like i'd...\n",
       "5571      ham                         Rofl. Its true to its name\n",
       "\n",
       "[5572 rows x 2 columns]"
      ]
     },
     "execution_count": 33,
     "metadata": {},
     "output_type": "execute_result"
    }
   ],
   "source": [
    "# Read the CSV file containing email data into a DataFrame\n",
    "\n",
    "df = pd.read_csv(\"spam.csv\")\n",
    "df"
   ]
  },
  {
   "cell_type": "code",
   "execution_count": 34,
   "id": "b03477b9",
   "metadata": {
    "execution": {
     "iopub.execute_input": "2023-08-01T11:39:09.932355Z",
     "iopub.status.busy": "2023-08-01T11:39:09.931690Z",
     "iopub.status.idle": "2023-08-01T11:39:09.961647Z",
     "shell.execute_reply": "2023-08-01T11:39:09.960441Z"
    },
    "id": "nkIt515XxioU",
    "outputId": "dddf0df7-2e03-4179-c1ac-8d74e3ba7a71",
    "papermill": {
     "duration": 0.046019,
     "end_time": "2023-08-01T11:39:09.963816",
     "exception": false,
     "start_time": "2023-08-01T11:39:09.917797",
     "status": "completed"
    },
    "tags": []
   },
   "outputs": [
    {
     "name": "stdout",
     "output_type": "stream",
     "text": [
      "<class 'pandas.core.frame.DataFrame'>\n",
      "RangeIndex: 5572 entries, 0 to 5571\n",
      "Data columns (total 2 columns):\n",
      " #   Column    Non-Null Count  Dtype \n",
      "---  ------    --------------  ----- \n",
      " 0   Category  5572 non-null   object\n",
      " 1   Message   5572 non-null   object\n",
      "dtypes: object(2)\n",
      "memory usage: 87.2+ KB\n"
     ]
    }
   ],
   "source": [
    "df.info()"
   ]
  },
  {
   "cell_type": "code",
   "execution_count": 35,
   "id": "9558154f",
   "metadata": {
    "execution": {
     "iopub.execute_input": "2023-08-01T11:39:10.026884Z",
     "iopub.status.busy": "2023-08-01T11:39:10.026188Z",
     "iopub.status.idle": "2023-08-01T11:39:10.037473Z",
     "shell.execute_reply": "2023-08-01T11:39:10.036731Z"
    },
    "id": "6PG9wYgjWYvp",
    "outputId": "57c7c883-ed92-4593-8590-db9e27077e05",
    "papermill": {
     "duration": 0.027281,
     "end_time": "2023-08-01T11:39:10.039426",
     "exception": false,
     "start_time": "2023-08-01T11:39:10.012145",
     "status": "completed"
    },
    "tags": []
   },
   "outputs": [
    {
     "data": {
      "text/html": [
       "<div>\n",
       "<style scoped>\n",
       "    .dataframe tbody tr th:only-of-type {\n",
       "        vertical-align: middle;\n",
       "    }\n",
       "\n",
       "    .dataframe tbody tr th {\n",
       "        vertical-align: top;\n",
       "    }\n",
       "\n",
       "    .dataframe thead th {\n",
       "        text-align: right;\n",
       "    }\n",
       "</style>\n",
       "<table border=\"1\" class=\"dataframe\">\n",
       "  <thead>\n",
       "    <tr style=\"text-align: right;\">\n",
       "      <th></th>\n",
       "      <th>Category</th>\n",
       "      <th>Message</th>\n",
       "    </tr>\n",
       "  </thead>\n",
       "  <tbody>\n",
       "    <tr>\n",
       "      <th>0</th>\n",
       "      <td>ham</td>\n",
       "      <td>Go until jurong point, crazy.. Available only ...</td>\n",
       "    </tr>\n",
       "    <tr>\n",
       "      <th>1</th>\n",
       "      <td>ham</td>\n",
       "      <td>Ok lar... Joking wif u oni...</td>\n",
       "    </tr>\n",
       "    <tr>\n",
       "      <th>2</th>\n",
       "      <td>spam</td>\n",
       "      <td>Free entry in 2 a wkly comp to win FA Cup fina...</td>\n",
       "    </tr>\n",
       "    <tr>\n",
       "      <th>3</th>\n",
       "      <td>ham</td>\n",
       "      <td>U dun say so early hor... U c already then say...</td>\n",
       "    </tr>\n",
       "    <tr>\n",
       "      <th>4</th>\n",
       "      <td>ham</td>\n",
       "      <td>Nah I don't think he goes to usf, he lives aro...</td>\n",
       "    </tr>\n",
       "    <tr>\n",
       "      <th>...</th>\n",
       "      <td>...</td>\n",
       "      <td>...</td>\n",
       "    </tr>\n",
       "    <tr>\n",
       "      <th>5567</th>\n",
       "      <td>spam</td>\n",
       "      <td>This is the 2nd time we have tried 2 contact u...</td>\n",
       "    </tr>\n",
       "    <tr>\n",
       "      <th>5568</th>\n",
       "      <td>ham</td>\n",
       "      <td>Will ü b going to esplanade fr home?</td>\n",
       "    </tr>\n",
       "    <tr>\n",
       "      <th>5569</th>\n",
       "      <td>ham</td>\n",
       "      <td>Pity, * was in mood for that. So...any other s...</td>\n",
       "    </tr>\n",
       "    <tr>\n",
       "      <th>5570</th>\n",
       "      <td>ham</td>\n",
       "      <td>The guy did some bitching but I acted like i'd...</td>\n",
       "    </tr>\n",
       "    <tr>\n",
       "      <th>5571</th>\n",
       "      <td>ham</td>\n",
       "      <td>Rofl. Its true to its name</td>\n",
       "    </tr>\n",
       "  </tbody>\n",
       "</table>\n",
       "<p>5572 rows × 2 columns</p>\n",
       "</div>"
      ],
      "text/plain": [
       "     Category                                            Message\n",
       "0         ham  Go until jurong point, crazy.. Available only ...\n",
       "1         ham                      Ok lar... Joking wif u oni...\n",
       "2        spam  Free entry in 2 a wkly comp to win FA Cup fina...\n",
       "3         ham  U dun say so early hor... U c already then say...\n",
       "4         ham  Nah I don't think he goes to usf, he lives aro...\n",
       "...       ...                                                ...\n",
       "5567     spam  This is the 2nd time we have tried 2 contact u...\n",
       "5568      ham               Will ü b going to esplanade fr home?\n",
       "5569      ham  Pity, * was in mood for that. So...any other s...\n",
       "5570      ham  The guy did some bitching but I acted like i'd...\n",
       "5571      ham                         Rofl. Its true to its name\n",
       "\n",
       "[5572 rows x 2 columns]"
      ]
     },
     "execution_count": 35,
     "metadata": {},
     "output_type": "execute_result"
    }
   ],
   "source": [
    "df"
   ]
  },
  {
   "cell_type": "code",
   "execution_count": 36,
   "id": "9c789618",
   "metadata": {
    "execution": {
     "iopub.execute_input": "2023-08-01T11:39:10.103425Z",
     "iopub.status.busy": "2023-08-01T11:39:10.102845Z",
     "iopub.status.idle": "2023-08-01T11:39:10.113963Z",
     "shell.execute_reply": "2023-08-01T11:39:10.113041Z"
    },
    "id": "qixjSVhiaYdk",
    "outputId": "5207e111-721b-4638-b3ce-645ec18d2f85",
    "papermill": {
     "duration": 0.027917,
     "end_time": "2023-08-01T11:39:10.116088",
     "exception": false,
     "start_time": "2023-08-01T11:39:10.088171",
     "status": "completed"
    },
    "tags": []
   },
   "outputs": [
    {
     "data": {
      "text/html": [
       "<div>\n",
       "<style scoped>\n",
       "    .dataframe tbody tr th:only-of-type {\n",
       "        vertical-align: middle;\n",
       "    }\n",
       "\n",
       "    .dataframe tbody tr th {\n",
       "        vertical-align: top;\n",
       "    }\n",
       "\n",
       "    .dataframe thead th {\n",
       "        text-align: right;\n",
       "    }\n",
       "</style>\n",
       "<table border=\"1\" class=\"dataframe\">\n",
       "  <thead>\n",
       "    <tr style=\"text-align: right;\">\n",
       "      <th></th>\n",
       "      <th>Category</th>\n",
       "      <th>Message</th>\n",
       "    </tr>\n",
       "  </thead>\n",
       "  <tbody>\n",
       "    <tr>\n",
       "      <th>0</th>\n",
       "      <td>ham</td>\n",
       "      <td>Go until jurong point, crazy.. Available only ...</td>\n",
       "    </tr>\n",
       "    <tr>\n",
       "      <th>1</th>\n",
       "      <td>ham</td>\n",
       "      <td>Ok lar... Joking wif u oni...</td>\n",
       "    </tr>\n",
       "    <tr>\n",
       "      <th>2</th>\n",
       "      <td>spam</td>\n",
       "      <td>Free entry in 2 a wkly comp to win FA Cup fina...</td>\n",
       "    </tr>\n",
       "    <tr>\n",
       "      <th>3</th>\n",
       "      <td>ham</td>\n",
       "      <td>U dun say so early hor... U c already then say...</td>\n",
       "    </tr>\n",
       "    <tr>\n",
       "      <th>4</th>\n",
       "      <td>ham</td>\n",
       "      <td>Nah I don't think he goes to usf, he lives aro...</td>\n",
       "    </tr>\n",
       "    <tr>\n",
       "      <th>...</th>\n",
       "      <td>...</td>\n",
       "      <td>...</td>\n",
       "    </tr>\n",
       "    <tr>\n",
       "      <th>5567</th>\n",
       "      <td>spam</td>\n",
       "      <td>This is the 2nd time we have tried 2 contact u...</td>\n",
       "    </tr>\n",
       "    <tr>\n",
       "      <th>5568</th>\n",
       "      <td>ham</td>\n",
       "      <td>Will ü b going to esplanade fr home?</td>\n",
       "    </tr>\n",
       "    <tr>\n",
       "      <th>5569</th>\n",
       "      <td>ham</td>\n",
       "      <td>Pity, * was in mood for that. So...any other s...</td>\n",
       "    </tr>\n",
       "    <tr>\n",
       "      <th>5570</th>\n",
       "      <td>ham</td>\n",
       "      <td>The guy did some bitching but I acted like i'd...</td>\n",
       "    </tr>\n",
       "    <tr>\n",
       "      <th>5571</th>\n",
       "      <td>ham</td>\n",
       "      <td>Rofl. Its true to its name</td>\n",
       "    </tr>\n",
       "  </tbody>\n",
       "</table>\n",
       "<p>5572 rows × 2 columns</p>\n",
       "</div>"
      ],
      "text/plain": [
       "     Category                                            Message\n",
       "0         ham  Go until jurong point, crazy.. Available only ...\n",
       "1         ham                      Ok lar... Joking wif u oni...\n",
       "2        spam  Free entry in 2 a wkly comp to win FA Cup fina...\n",
       "3         ham  U dun say so early hor... U c already then say...\n",
       "4         ham  Nah I don't think he goes to usf, he lives aro...\n",
       "...       ...                                                ...\n",
       "5567     spam  This is the 2nd time we have tried 2 contact u...\n",
       "5568      ham               Will ü b going to esplanade fr home?\n",
       "5569      ham  Pity, * was in mood for that. So...any other s...\n",
       "5570      ham  The guy did some bitching but I acted like i'd...\n",
       "5571      ham                         Rofl. Its true to its name\n",
       "\n",
       "[5572 rows x 2 columns]"
      ]
     },
     "execution_count": 36,
     "metadata": {},
     "output_type": "execute_result"
    }
   ],
   "source": [
    "df"
   ]
  },
  {
   "cell_type": "code",
   "execution_count": 37,
   "id": "5434ecb6",
   "metadata": {
    "execution": {
     "iopub.execute_input": "2023-08-01T11:39:10.144521Z",
     "iopub.status.busy": "2023-08-01T11:39:10.144112Z",
     "iopub.status.idle": "2023-08-01T11:39:10.154202Z",
     "shell.execute_reply": "2023-08-01T11:39:10.153061Z"
    },
    "id": "cXzMa-w0iitv",
    "papermill": {
     "duration": 0.02706,
     "end_time": "2023-08-01T11:39:10.156512",
     "exception": false,
     "start_time": "2023-08-01T11:39:10.129452",
     "status": "completed"
    },
    "tags": []
   },
   "outputs": [],
   "source": [
    "# Replace any NaN values in the DataFrame with a space\n",
    "\n",
    "data = df.where((pd.notnull(df)), ' ')"
   ]
  },
  {
   "cell_type": "code",
   "execution_count": 38,
   "id": "92db3d50",
   "metadata": {
    "execution": {
     "iopub.execute_input": "2023-08-01T11:39:10.185268Z",
     "iopub.status.busy": "2023-08-01T11:39:10.184863Z",
     "iopub.status.idle": "2023-08-01T11:39:10.195347Z",
     "shell.execute_reply": "2023-08-01T11:39:10.194383Z"
    },
    "id": "oegpIHZniwxi",
    "outputId": "92205e57-24fb-4a98-a0ae-3a3156ff3492",
    "papermill": {
     "duration": 0.027048,
     "end_time": "2023-08-01T11:39:10.197384",
     "exception": false,
     "start_time": "2023-08-01T11:39:10.170336",
     "status": "completed"
    },
    "tags": []
   },
   "outputs": [
    {
     "data": {
      "text/html": [
       "<div>\n",
       "<style scoped>\n",
       "    .dataframe tbody tr th:only-of-type {\n",
       "        vertical-align: middle;\n",
       "    }\n",
       "\n",
       "    .dataframe tbody tr th {\n",
       "        vertical-align: top;\n",
       "    }\n",
       "\n",
       "    .dataframe thead th {\n",
       "        text-align: right;\n",
       "    }\n",
       "</style>\n",
       "<table border=\"1\" class=\"dataframe\">\n",
       "  <thead>\n",
       "    <tr style=\"text-align: right;\">\n",
       "      <th></th>\n",
       "      <th>Category</th>\n",
       "      <th>Message</th>\n",
       "    </tr>\n",
       "  </thead>\n",
       "  <tbody>\n",
       "    <tr>\n",
       "      <th>0</th>\n",
       "      <td>ham</td>\n",
       "      <td>Go until jurong point, crazy.. Available only ...</td>\n",
       "    </tr>\n",
       "    <tr>\n",
       "      <th>1</th>\n",
       "      <td>ham</td>\n",
       "      <td>Ok lar... Joking wif u oni...</td>\n",
       "    </tr>\n",
       "    <tr>\n",
       "      <th>2</th>\n",
       "      <td>spam</td>\n",
       "      <td>Free entry in 2 a wkly comp to win FA Cup fina...</td>\n",
       "    </tr>\n",
       "    <tr>\n",
       "      <th>3</th>\n",
       "      <td>ham</td>\n",
       "      <td>U dun say so early hor... U c already then say...</td>\n",
       "    </tr>\n",
       "    <tr>\n",
       "      <th>4</th>\n",
       "      <td>ham</td>\n",
       "      <td>Nah I don't think he goes to usf, he lives aro...</td>\n",
       "    </tr>\n",
       "    <tr>\n",
       "      <th>5</th>\n",
       "      <td>spam</td>\n",
       "      <td>FreeMsg Hey there darling it's been 3 week's n...</td>\n",
       "    </tr>\n",
       "    <tr>\n",
       "      <th>6</th>\n",
       "      <td>ham</td>\n",
       "      <td>Even my brother is not like to speak with me. ...</td>\n",
       "    </tr>\n",
       "    <tr>\n",
       "      <th>7</th>\n",
       "      <td>ham</td>\n",
       "      <td>As per your request 'Melle Melle (Oru Minnamin...</td>\n",
       "    </tr>\n",
       "    <tr>\n",
       "      <th>8</th>\n",
       "      <td>spam</td>\n",
       "      <td>WINNER!! As a valued network customer you have...</td>\n",
       "    </tr>\n",
       "    <tr>\n",
       "      <th>9</th>\n",
       "      <td>spam</td>\n",
       "      <td>Had your mobile 11 months or more? U R entitle...</td>\n",
       "    </tr>\n",
       "  </tbody>\n",
       "</table>\n",
       "</div>"
      ],
      "text/plain": [
       "  Category                                            Message\n",
       "0      ham  Go until jurong point, crazy.. Available only ...\n",
       "1      ham                      Ok lar... Joking wif u oni...\n",
       "2     spam  Free entry in 2 a wkly comp to win FA Cup fina...\n",
       "3      ham  U dun say so early hor... U c already then say...\n",
       "4      ham  Nah I don't think he goes to usf, he lives aro...\n",
       "5     spam  FreeMsg Hey there darling it's been 3 week's n...\n",
       "6      ham  Even my brother is not like to speak with me. ...\n",
       "7      ham  As per your request 'Melle Melle (Oru Minnamin...\n",
       "8     spam  WINNER!! As a valued network customer you have...\n",
       "9     spam  Had your mobile 11 months or more? U R entitle..."
      ]
     },
     "execution_count": 38,
     "metadata": {},
     "output_type": "execute_result"
    }
   ],
   "source": [
    "data.head(10)"
   ]
  },
  {
   "cell_type": "code",
   "execution_count": 39,
   "id": "2aa788d0",
   "metadata": {
    "execution": {
     "iopub.execute_input": "2023-08-01T11:39:10.226146Z",
     "iopub.status.busy": "2023-08-01T11:39:10.225752Z",
     "iopub.status.idle": "2023-08-01T11:39:10.246456Z",
     "shell.execute_reply": "2023-08-01T11:39:10.245412Z"
    },
    "id": "kf3gVoyBnPkl",
    "outputId": "b85eafa3-6fb6-4226-8821-df4cf48ba21a",
    "papermill": {
     "duration": 0.037974,
     "end_time": "2023-08-01T11:39:10.248987",
     "exception": false,
     "start_time": "2023-08-01T11:39:10.211013",
     "status": "completed"
    },
    "tags": []
   },
   "outputs": [
    {
     "data": {
      "text/html": [
       "<div>\n",
       "<style scoped>\n",
       "    .dataframe tbody tr th:only-of-type {\n",
       "        vertical-align: middle;\n",
       "    }\n",
       "\n",
       "    .dataframe tbody tr th {\n",
       "        vertical-align: top;\n",
       "    }\n",
       "\n",
       "    .dataframe thead th {\n",
       "        text-align: right;\n",
       "    }\n",
       "</style>\n",
       "<table border=\"1\" class=\"dataframe\">\n",
       "  <thead>\n",
       "    <tr style=\"text-align: right;\">\n",
       "      <th></th>\n",
       "      <th>Category</th>\n",
       "      <th>Message</th>\n",
       "    </tr>\n",
       "  </thead>\n",
       "  <tbody>\n",
       "    <tr>\n",
       "      <th>count</th>\n",
       "      <td>5572</td>\n",
       "      <td>5572</td>\n",
       "    </tr>\n",
       "    <tr>\n",
       "      <th>unique</th>\n",
       "      <td>2</td>\n",
       "      <td>5157</td>\n",
       "    </tr>\n",
       "    <tr>\n",
       "      <th>top</th>\n",
       "      <td>ham</td>\n",
       "      <td>Sorry, I'll call later</td>\n",
       "    </tr>\n",
       "    <tr>\n",
       "      <th>freq</th>\n",
       "      <td>4825</td>\n",
       "      <td>30</td>\n",
       "    </tr>\n",
       "  </tbody>\n",
       "</table>\n",
       "</div>"
      ],
      "text/plain": [
       "       Category                 Message\n",
       "count      5572                    5572\n",
       "unique        2                    5157\n",
       "top         ham  Sorry, I'll call later\n",
       "freq       4825                      30"
      ]
     },
     "execution_count": 39,
     "metadata": {},
     "output_type": "execute_result"
    }
   ],
   "source": [
    "data.describe()"
   ]
  },
  {
   "cell_type": "code",
   "execution_count": 40,
   "id": "f8ba8f9e",
   "metadata": {
    "execution": {
     "iopub.execute_input": "2023-08-01T11:39:10.279437Z",
     "iopub.status.busy": "2023-08-01T11:39:10.278712Z",
     "iopub.status.idle": "2023-08-01T11:39:10.292979Z",
     "shell.execute_reply": "2023-08-01T11:39:10.291786Z"
    },
    "id": "3-Qdy8MYiygS",
    "outputId": "3c6f996c-2fc6-48e3-f309-44a472608e8f",
    "papermill": {
     "duration": 0.031911,
     "end_time": "2023-08-01T11:39:10.295075",
     "exception": false,
     "start_time": "2023-08-01T11:39:10.263164",
     "status": "completed"
    },
    "tags": []
   },
   "outputs": [
    {
     "name": "stdout",
     "output_type": "stream",
     "text": [
      "<class 'pandas.core.frame.DataFrame'>\n",
      "RangeIndex: 5572 entries, 0 to 5571\n",
      "Data columns (total 2 columns):\n",
      " #   Column    Non-Null Count  Dtype \n",
      "---  ------    --------------  ----- \n",
      " 0   Category  5572 non-null   object\n",
      " 1   Message   5572 non-null   object\n",
      "dtypes: object(2)\n",
      "memory usage: 87.2+ KB\n"
     ]
    }
   ],
   "source": [
    "data.info()"
   ]
  },
  {
   "cell_type": "code",
   "execution_count": 41,
   "id": "b292eca9",
   "metadata": {
    "execution": {
     "iopub.execute_input": "2023-08-01T11:39:10.325332Z",
     "iopub.status.busy": "2023-08-01T11:39:10.324640Z",
     "iopub.status.idle": "2023-08-01T11:39:10.331286Z",
     "shell.execute_reply": "2023-08-01T11:39:10.330393Z"
    },
    "id": "mzSiReJJi_yH",
    "outputId": "060bb87d-f810-4eb4-a806-023958cb57b1",
    "papermill": {
     "duration": 0.024047,
     "end_time": "2023-08-01T11:39:10.333219",
     "exception": false,
     "start_time": "2023-08-01T11:39:10.309172",
     "status": "completed"
    },
    "tags": []
   },
   "outputs": [
    {
     "data": {
      "text/plain": [
       "(5572, 2)"
      ]
     },
     "execution_count": 41,
     "metadata": {},
     "output_type": "execute_result"
    }
   ],
   "source": [
    "data.shape"
   ]
  },
  {
   "cell_type": "code",
   "execution_count": 42,
   "id": "8dddd1be",
   "metadata": {
    "execution": {
     "iopub.execute_input": "2023-08-01T11:39:10.362636Z",
     "iopub.status.busy": "2023-08-01T11:39:10.361992Z",
     "iopub.status.idle": "2023-08-01T11:39:10.370371Z",
     "shell.execute_reply": "2023-08-01T11:39:10.369557Z"
    },
    "id": "QmhqflqknlcY",
    "papermill": {
     "duration": 0.025541,
     "end_time": "2023-08-01T11:39:10.372484",
     "exception": false,
     "start_time": "2023-08-01T11:39:10.346943",
     "status": "completed"
    },
    "tags": []
   },
   "outputs": [],
   "source": [
    "# Convert the \"Category\" column values to numerical representation (0 for \"spam\" and 1 for \"ham\")\n",
    "\n",
    "data.loc[data[\"Category\"] == \"spam\", \"Category\"] = 0\n",
    "data.loc[data[\"Category\"] == \"ham\", \"Category\"] = 1\n"
   ]
  },
  {
   "cell_type": "code",
   "execution_count": 43,
   "id": "982a2df1",
   "metadata": {
    "execution": {
     "iopub.execute_input": "2023-08-01T11:39:10.402713Z",
     "iopub.status.busy": "2023-08-01T11:39:10.402057Z",
     "iopub.status.idle": "2023-08-01T11:39:10.406261Z",
     "shell.execute_reply": "2023-08-01T11:39:10.405590Z"
    },
    "id": "GiMyNf5SkBOz",
    "papermill": {
     "duration": 0.021701,
     "end_time": "2023-08-01T11:39:10.408143",
     "exception": false,
     "start_time": "2023-08-01T11:39:10.386442",
     "status": "completed"
    },
    "tags": []
   },
   "outputs": [],
   "source": [
    "# Separate the feature (message) and target (category) data\n",
    "\n",
    "X = data[\"Message\"]\n",
    "Y = data[\"Category\"]"
   ]
  },
  {
   "cell_type": "code",
   "execution_count": 44,
   "id": "c81f950f",
   "metadata": {
    "execution": {
     "iopub.execute_input": "2023-08-01T11:39:10.438033Z",
     "iopub.status.busy": "2023-08-01T11:39:10.437427Z",
     "iopub.status.idle": "2023-08-01T11:39:10.443716Z",
     "shell.execute_reply": "2023-08-01T11:39:10.442626Z"
    },
    "id": "wACJQUudkvuA",
    "outputId": "26b157b9-4beb-4c1e-8bdc-f8e49f665822",
    "papermill": {
     "duration": 0.023322,
     "end_time": "2023-08-01T11:39:10.445782",
     "exception": false,
     "start_time": "2023-08-01T11:39:10.422460",
     "status": "completed"
    },
    "tags": []
   },
   "outputs": [
    {
     "name": "stdout",
     "output_type": "stream",
     "text": [
      "0       Go until jurong point, crazy.. Available only ...\n",
      "1                           Ok lar... Joking wif u oni...\n",
      "2       Free entry in 2 a wkly comp to win FA Cup fina...\n",
      "3       U dun say so early hor... U c already then say...\n",
      "4       Nah I don't think he goes to usf, he lives aro...\n",
      "                              ...                        \n",
      "5567    This is the 2nd time we have tried 2 contact u...\n",
      "5568                 Will ü b going to esplanade fr home?\n",
      "5569    Pity, * was in mood for that. So...any other s...\n",
      "5570    The guy did some bitching but I acted like i'd...\n",
      "5571                           Rofl. Its true to its name\n",
      "Name: Message, Length: 5572, dtype: object\n"
     ]
    }
   ],
   "source": [
    "print(X)"
   ]
  },
  {
   "cell_type": "code",
   "execution_count": 45,
   "id": "ef0ec62c",
   "metadata": {
    "execution": {
     "iopub.execute_input": "2023-08-01T11:39:10.475181Z",
     "iopub.status.busy": "2023-08-01T11:39:10.474789Z",
     "iopub.status.idle": "2023-08-01T11:39:10.481217Z",
     "shell.execute_reply": "2023-08-01T11:39:10.480145Z"
    },
    "id": "EXfJfktTkzjZ",
    "outputId": "24325a8e-8dd5-4105-f715-0604c16a4a31",
    "papermill": {
     "duration": 0.02391,
     "end_time": "2023-08-01T11:39:10.483444",
     "exception": false,
     "start_time": "2023-08-01T11:39:10.459534",
     "status": "completed"
    },
    "tags": []
   },
   "outputs": [
    {
     "name": "stdout",
     "output_type": "stream",
     "text": [
      "0       1\n",
      "1       1\n",
      "2       0\n",
      "3       1\n",
      "4       1\n",
      "       ..\n",
      "5567    0\n",
      "5568    1\n",
      "5569    1\n",
      "5570    1\n",
      "5571    1\n",
      "Name: Category, Length: 5572, dtype: object\n"
     ]
    }
   ],
   "source": [
    "print(Y)"
   ]
  },
  {
   "cell_type": "code",
   "execution_count": 46,
   "id": "e07ffd53",
   "metadata": {
    "execution": {
     "iopub.execute_input": "2023-08-01T11:39:10.513940Z",
     "iopub.status.busy": "2023-08-01T11:39:10.513546Z",
     "iopub.status.idle": "2023-08-01T11:39:10.521319Z",
     "shell.execute_reply": "2023-08-01T11:39:10.520269Z"
    },
    "id": "xDcwlj_bk3Ej",
    "papermill": {
     "duration": 0.025816,
     "end_time": "2023-08-01T11:39:10.523518",
     "exception": false,
     "start_time": "2023-08-01T11:39:10.497702",
     "status": "completed"
    },
    "tags": []
   },
   "outputs": [],
   "source": [
    "# Split the data into training and testing sets\n",
    "\n",
    "X_train, X_test, Y_train, Y_test = train_test_split(X, Y, test_size = 0.2, random_state = 3)"
   ]
  },
  {
   "cell_type": "code",
   "execution_count": 47,
   "id": "49477638",
   "metadata": {
    "execution": {
     "iopub.execute_input": "2023-08-01T11:39:10.554104Z",
     "iopub.status.busy": "2023-08-01T11:39:10.553720Z",
     "iopub.status.idle": "2023-08-01T11:39:10.559425Z",
     "shell.execute_reply": "2023-08-01T11:39:10.558252Z"
    },
    "id": "SPqEutjhmFZw",
    "outputId": "70c8e0d1-b672-4593-e7bf-b36f498dd59c",
    "papermill": {
     "duration": 0.023631,
     "end_time": "2023-08-01T11:39:10.561629",
     "exception": false,
     "start_time": "2023-08-01T11:39:10.537998",
     "status": "completed"
    },
    "tags": []
   },
   "outputs": [
    {
     "name": "stdout",
     "output_type": "stream",
     "text": [
      "(5572,)\n",
      "(4457,)\n",
      "(1115,)\n"
     ]
    }
   ],
   "source": [
    "print(X.shape)\n",
    "print(X_train.shape)\n",
    "print(X_test.shape)"
   ]
  },
  {
   "cell_type": "code",
   "execution_count": 48,
   "id": "5b0e7436",
   "metadata": {
    "execution": {
     "iopub.execute_input": "2023-08-01T11:39:10.592260Z",
     "iopub.status.busy": "2023-08-01T11:39:10.591876Z",
     "iopub.status.idle": "2023-08-01T11:39:10.597386Z",
     "shell.execute_reply": "2023-08-01T11:39:10.596304Z"
    },
    "id": "gxYRGQlrnBfL",
    "outputId": "9696b6a8-572d-481c-c8a5-a01978edbdcd",
    "papermill": {
     "duration": 0.023811,
     "end_time": "2023-08-01T11:39:10.599717",
     "exception": false,
     "start_time": "2023-08-01T11:39:10.575906",
     "status": "completed"
    },
    "tags": []
   },
   "outputs": [
    {
     "name": "stdout",
     "output_type": "stream",
     "text": [
      "(5572,)\n",
      "(4457,)\n",
      "(1115,)\n"
     ]
    }
   ],
   "source": [
    "print(Y.shape)\n",
    "print(Y_train.shape)\n",
    "print(Y_test.shape)"
   ]
  },
  {
   "cell_type": "code",
   "execution_count": 49,
   "id": "50e61d10",
   "metadata": {
    "execution": {
     "iopub.execute_input": "2023-08-01T11:39:10.631082Z",
     "iopub.status.busy": "2023-08-01T11:39:10.630704Z",
     "iopub.status.idle": "2023-08-01T11:39:10.635728Z",
     "shell.execute_reply": "2023-08-01T11:39:10.634589Z"
    },
    "id": "Un77KQM3nODr",
    "papermill": {
     "duration": 0.023801,
     "end_time": "2023-08-01T11:39:10.638004",
     "exception": false,
     "start_time": "2023-08-01T11:39:10.614203",
     "status": "completed"
    },
    "tags": []
   },
   "outputs": [],
   "source": [
    "# Create a TF-IDF vectorizer to convert text messages into numerical features\n",
    "\n",
    "feature_extraction = TfidfVectorizer(min_df=1, stop_words=\"english\", lowercase=True)"
   ]
  },
  {
   "cell_type": "code",
   "execution_count": 50,
   "id": "adf0fc86",
   "metadata": {
    "execution": {
     "iopub.execute_input": "2023-08-01T11:39:10.669987Z",
     "iopub.status.busy": "2023-08-01T11:39:10.669147Z",
     "iopub.status.idle": "2023-08-01T11:39:10.831518Z",
     "shell.execute_reply": "2023-08-01T11:39:10.830230Z"
    },
    "id": "_C82pC8zoNp-",
    "papermill": {
     "duration": 0.181469,
     "end_time": "2023-08-01T11:39:10.834464",
     "exception": false,
     "start_time": "2023-08-01T11:39:10.652995",
     "status": "completed"
    },
    "tags": []
   },
   "outputs": [],
   "source": [
    "# Convert the training and testing text messages into numerical features using TF-IDF\n",
    "\n",
    "X_train_features = feature_extraction.fit_transform(X_train)\n",
    "X_test_features = feature_extraction.transform(X_test)\n"
   ]
  },
  {
   "cell_type": "code",
   "execution_count": 51,
   "id": "5e8631cc",
   "metadata": {
    "execution": {
     "iopub.execute_input": "2023-08-01T11:39:10.867993Z",
     "iopub.status.busy": "2023-08-01T11:39:10.867131Z",
     "iopub.status.idle": "2023-08-01T11:39:10.875133Z",
     "shell.execute_reply": "2023-08-01T11:39:10.873847Z"
    },
    "id": "Nk3kKPaWoVFr",
    "papermill": {
     "duration": 0.027473,
     "end_time": "2023-08-01T11:39:10.877435",
     "exception": false,
     "start_time": "2023-08-01T11:39:10.849962",
     "status": "completed"
    },
    "tags": []
   },
   "outputs": [],
   "source": [
    "# Convert the target values to integers (0 and 1)\n",
    "\n",
    "Y_train = Y_train.astype(\"int\")\n",
    "Y_test = Y_test.astype(\"int\")"
   ]
  },
  {
   "cell_type": "code",
   "execution_count": 52,
   "id": "ed834d47",
   "metadata": {
    "execution": {
     "iopub.execute_input": "2023-08-01T11:39:10.910164Z",
     "iopub.status.busy": "2023-08-01T11:39:10.909729Z",
     "iopub.status.idle": "2023-08-01T11:39:10.917161Z",
     "shell.execute_reply": "2023-08-01T11:39:10.915725Z"
    },
    "id": "2Tx9WerGpYEs",
    "outputId": "bfa3f495-16c9-42a4-fb1f-c13302f4981f",
    "papermill": {
     "duration": 0.026311,
     "end_time": "2023-08-01T11:39:10.919651",
     "exception": false,
     "start_time": "2023-08-01T11:39:10.893340",
     "status": "completed"
    },
    "tags": []
   },
   "outputs": [
    {
     "name": "stdout",
     "output_type": "stream",
     "text": [
      "3075                  Don know. I did't msg him recently.\n",
      "1787    Do you know why god created gap between your f...\n",
      "1614                         Thnx dude. u guys out 2nite?\n",
      "4304                                      Yup i'm free...\n",
      "3266    44 7732584351, Do you want a New Nokia 3510i c...\n",
      "                              ...                        \n",
      "789     5 Free Top Polyphonic Tones call 087018728737,...\n",
      "968     What do u want when i come back?.a beautiful n...\n",
      "1667    Guess who spent all last night phasing in and ...\n",
      "3321    Eh sorry leh... I din c ur msg. Not sad alread...\n",
      "1688    Free Top ringtone -sub to weekly ringtone-get ...\n",
      "Name: Message, Length: 4457, dtype: object\n"
     ]
    }
   ],
   "source": [
    "print(X_train)"
   ]
  },
  {
   "cell_type": "code",
   "execution_count": 53,
   "id": "d682041d",
   "metadata": {
    "execution": {
     "iopub.execute_input": "2023-08-01T11:39:10.953126Z",
     "iopub.status.busy": "2023-08-01T11:39:10.952107Z",
     "iopub.status.idle": "2023-08-01T11:39:10.958881Z",
     "shell.execute_reply": "2023-08-01T11:39:10.957550Z"
    },
    "id": "OWuakUo-p0Si",
    "outputId": "95838cd3-9bb2-4d16-d47c-6672c54986c7",
    "papermill": {
     "duration": 0.02622,
     "end_time": "2023-08-01T11:39:10.961219",
     "exception": false,
     "start_time": "2023-08-01T11:39:10.934999",
     "status": "completed"
    },
    "tags": []
   },
   "outputs": [
    {
     "name": "stdout",
     "output_type": "stream",
     "text": [
      "  (0, 5413)\t0.6198254967574347\n",
      "  (0, 4456)\t0.4168658090846482\n",
      "  (0, 2224)\t0.413103377943378\n",
      "  (0, 3811)\t0.34780165336891333\n",
      "  (0, 2329)\t0.38783870336935383\n",
      "  (1, 4080)\t0.18880584110891163\n",
      "  (1, 3185)\t0.29694482957694585\n",
      "  (1, 3325)\t0.31610586766078863\n",
      "  (1, 2957)\t0.3398297002864083\n",
      "  (1, 2746)\t0.3398297002864083\n",
      "  (1, 918)\t0.22871581159877646\n",
      "  (1, 1839)\t0.2784903590561455\n",
      "  (1, 2758)\t0.3226407885943799\n",
      "  (1, 2956)\t0.33036995955537024\n",
      "  (1, 1991)\t0.33036995955537024\n",
      "  (1, 3046)\t0.2503712792613518\n",
      "  (1, 3811)\t0.17419952275504033\n",
      "  (2, 407)\t0.509272536051008\n",
      "  (2, 3156)\t0.4107239318312698\n",
      "  (2, 2404)\t0.45287711070606745\n",
      "  (2, 6601)\t0.6056811524587518\n",
      "  (3, 2870)\t0.5864269879324768\n",
      "  (3, 7414)\t0.8100020912469564\n",
      "  (4, 50)\t0.23633754072626942\n",
      "  (4, 5497)\t0.15743785051118356\n",
      "  :\t:\n",
      "  (4454, 4602)\t0.2669765732445391\n",
      "  (4454, 3142)\t0.32014451677763156\n",
      "  (4455, 2247)\t0.37052851863170466\n",
      "  (4455, 2469)\t0.35441545511837946\n",
      "  (4455, 5646)\t0.33545678464631296\n",
      "  (4455, 6810)\t0.29731757715898277\n",
      "  (4455, 6091)\t0.23103841516927642\n",
      "  (4455, 7113)\t0.30536590342067704\n",
      "  (4455, 3872)\t0.3108911491788658\n",
      "  (4455, 4715)\t0.30714144758811196\n",
      "  (4455, 6916)\t0.19636985317119715\n",
      "  (4455, 3922)\t0.31287563163368587\n",
      "  (4455, 4456)\t0.24920025316220423\n",
      "  (4456, 141)\t0.292943737785358\n",
      "  (4456, 647)\t0.30133182431707617\n",
      "  (4456, 6311)\t0.30133182431707617\n",
      "  (4456, 5569)\t0.4619395404299172\n",
      "  (4456, 6028)\t0.21034888000987115\n",
      "  (4456, 7154)\t0.24083218452280053\n",
      "  (4456, 7150)\t0.3677554681447669\n",
      "  (4456, 6249)\t0.17573831794959716\n",
      "  (4456, 6307)\t0.2752760476857975\n",
      "  (4456, 334)\t0.2220077711654938\n",
      "  (4456, 5778)\t0.16243064490100795\n",
      "  (4456, 2870)\t0.31523196273113385\n"
     ]
    }
   ],
   "source": [
    "print(X_train_features)"
   ]
  },
  {
   "cell_type": "code",
   "execution_count": 54,
   "id": "97754adb",
   "metadata": {
    "execution": {
     "iopub.execute_input": "2023-08-01T11:39:10.994966Z",
     "iopub.status.busy": "2023-08-01T11:39:10.993882Z",
     "iopub.status.idle": "2023-08-01T11:39:11.088855Z",
     "shell.execute_reply": "2023-08-01T11:39:11.087739Z"
    },
    "id": "odYwnMcfof44",
    "outputId": "10271b83-d1b4-4773-9d6e-4e46e2d5c016",
    "papermill": {
     "duration": 0.114667,
     "end_time": "2023-08-01T11:39:11.091387",
     "exception": false,
     "start_time": "2023-08-01T11:39:10.976720",
     "status": "completed"
    },
    "tags": []
   },
   "outputs": [
    {
     "data": {
      "text/html": [
       "<style>#sk-container-id-2 {color: black;background-color: white;}#sk-container-id-2 pre{padding: 0;}#sk-container-id-2 div.sk-toggleable {background-color: white;}#sk-container-id-2 label.sk-toggleable__label {cursor: pointer;display: block;width: 100%;margin-bottom: 0;padding: 0.3em;box-sizing: border-box;text-align: center;}#sk-container-id-2 label.sk-toggleable__label-arrow:before {content: \"▸\";float: left;margin-right: 0.25em;color: #696969;}#sk-container-id-2 label.sk-toggleable__label-arrow:hover:before {color: black;}#sk-container-id-2 div.sk-estimator:hover label.sk-toggleable__label-arrow:before {color: black;}#sk-container-id-2 div.sk-toggleable__content {max-height: 0;max-width: 0;overflow: hidden;text-align: left;background-color: #f0f8ff;}#sk-container-id-2 div.sk-toggleable__content pre {margin: 0.2em;color: black;border-radius: 0.25em;background-color: #f0f8ff;}#sk-container-id-2 input.sk-toggleable__control:checked~div.sk-toggleable__content {max-height: 200px;max-width: 100%;overflow: auto;}#sk-container-id-2 input.sk-toggleable__control:checked~label.sk-toggleable__label-arrow:before {content: \"▾\";}#sk-container-id-2 div.sk-estimator input.sk-toggleable__control:checked~label.sk-toggleable__label {background-color: #d4ebff;}#sk-container-id-2 div.sk-label input.sk-toggleable__control:checked~label.sk-toggleable__label {background-color: #d4ebff;}#sk-container-id-2 input.sk-hidden--visually {border: 0;clip: rect(1px 1px 1px 1px);clip: rect(1px, 1px, 1px, 1px);height: 1px;margin: -1px;overflow: hidden;padding: 0;position: absolute;width: 1px;}#sk-container-id-2 div.sk-estimator {font-family: monospace;background-color: #f0f8ff;border: 1px dotted black;border-radius: 0.25em;box-sizing: border-box;margin-bottom: 0.5em;}#sk-container-id-2 div.sk-estimator:hover {background-color: #d4ebff;}#sk-container-id-2 div.sk-parallel-item::after {content: \"\";width: 100%;border-bottom: 1px solid gray;flex-grow: 1;}#sk-container-id-2 div.sk-label:hover label.sk-toggleable__label {background-color: #d4ebff;}#sk-container-id-2 div.sk-serial::before {content: \"\";position: absolute;border-left: 1px solid gray;box-sizing: border-box;top: 0;bottom: 0;left: 50%;z-index: 0;}#sk-container-id-2 div.sk-serial {display: flex;flex-direction: column;align-items: center;background-color: white;padding-right: 0.2em;padding-left: 0.2em;position: relative;}#sk-container-id-2 div.sk-item {position: relative;z-index: 1;}#sk-container-id-2 div.sk-parallel {display: flex;align-items: stretch;justify-content: center;background-color: white;position: relative;}#sk-container-id-2 div.sk-item::before, #sk-container-id-2 div.sk-parallel-item::before {content: \"\";position: absolute;border-left: 1px solid gray;box-sizing: border-box;top: 0;bottom: 0;left: 50%;z-index: -1;}#sk-container-id-2 div.sk-parallel-item {display: flex;flex-direction: column;z-index: 1;position: relative;background-color: white;}#sk-container-id-2 div.sk-parallel-item:first-child::after {align-self: flex-end;width: 50%;}#sk-container-id-2 div.sk-parallel-item:last-child::after {align-self: flex-start;width: 50%;}#sk-container-id-2 div.sk-parallel-item:only-child::after {width: 0;}#sk-container-id-2 div.sk-dashed-wrapped {border: 1px dashed gray;margin: 0 0.4em 0.5em 0.4em;box-sizing: border-box;padding-bottom: 0.4em;background-color: white;}#sk-container-id-2 div.sk-label label {font-family: monospace;font-weight: bold;display: inline-block;line-height: 1.2em;}#sk-container-id-2 div.sk-label-container {text-align: center;}#sk-container-id-2 div.sk-container {/* jupyter's `normalize.less` sets `[hidden] { display: none; }` but bootstrap.min.css set `[hidden] { display: none !important; }` so we also need the `!important` here to be able to override the default hidden behavior on the sphinx rendered scikit-learn.org. See: https://github.com/scikit-learn/scikit-learn/issues/21755 */display: inline-block !important;position: relative;}#sk-container-id-2 div.sk-text-repr-fallback {display: none;}</style><div id=\"sk-container-id-2\" class=\"sk-top-container\"><div class=\"sk-text-repr-fallback\"><pre>LogisticRegression()</pre><b>In a Jupyter environment, please rerun this cell to show the HTML representation or trust the notebook. <br />On GitHub, the HTML representation is unable to render, please try loading this page with nbviewer.org.</b></div><div class=\"sk-container\" hidden><div class=\"sk-item\"><div class=\"sk-estimator sk-toggleable\"><input class=\"sk-toggleable__control sk-hidden--visually\" id=\"sk-estimator-id-2\" type=\"checkbox\" checked><label for=\"sk-estimator-id-2\" class=\"sk-toggleable__label sk-toggleable__label-arrow\">LogisticRegression</label><div class=\"sk-toggleable__content\"><pre>LogisticRegression()</pre></div></div></div></div></div>"
      ],
      "text/plain": [
       "LogisticRegression()"
      ]
     },
     "execution_count": 54,
     "metadata": {},
     "output_type": "execute_result"
    }
   ],
   "source": [
    "# Create a logistic regression model and train it on the training data\n",
    "\n",
    "model = LogisticRegression()\n",
    "model.fit(X_train_features, Y_train)"
   ]
  },
  {
   "cell_type": "code",
   "execution_count": 55,
   "id": "e5b5f16c",
   "metadata": {
    "execution": {
     "iopub.execute_input": "2023-08-01T11:39:11.123978Z",
     "iopub.status.busy": "2023-08-01T11:39:11.123598Z",
     "iopub.status.idle": "2023-08-01T11:39:11.130087Z",
     "shell.execute_reply": "2023-08-01T11:39:11.129288Z"
    },
    "id": "sCh05UUvrIa7",
    "papermill": {
     "duration": 0.025324,
     "end_time": "2023-08-01T11:39:11.132129",
     "exception": false,
     "start_time": "2023-08-01T11:39:11.106805",
     "status": "completed"
    },
    "tags": []
   },
   "outputs": [],
   "source": [
    "# Make predictions on the training data and calculate the accuracy\n",
    "\n",
    "prediction_on_training_data = model.predict(X_train_features)\n",
    "accuracy_on_training_data = accuracy_score(Y_train, prediction_on_training_data)"
   ]
  },
  {
   "cell_type": "code",
   "execution_count": 56,
   "id": "bc33debd",
   "metadata": {
    "execution": {
     "iopub.execute_input": "2023-08-01T11:39:11.165565Z",
     "iopub.status.busy": "2023-08-01T11:39:11.164877Z",
     "iopub.status.idle": "2023-08-01T11:39:11.170061Z",
     "shell.execute_reply": "2023-08-01T11:39:11.168881Z"
    },
    "id": "EeIdb3F-f8H5",
    "outputId": "98704836-8e66-4b31-8d10-5e16f308ccaf",
    "papermill": {
     "duration": 0.024409,
     "end_time": "2023-08-01T11:39:11.172076",
     "exception": false,
     "start_time": "2023-08-01T11:39:11.147667",
     "status": "completed"
    },
    "tags": []
   },
   "outputs": [
    {
     "name": "stdout",
     "output_type": "stream",
     "text": [
      "Accuracy on training data: 0.9670181736594121\n"
     ]
    }
   ],
   "source": [
    "print(\"Accuracy on training data:\",accuracy_on_training_data)"
   ]
  },
  {
   "cell_type": "code",
   "execution_count": 57,
   "id": "601ab4fa",
   "metadata": {
    "execution": {
     "iopub.execute_input": "2023-08-01T11:39:11.205845Z",
     "iopub.status.busy": "2023-08-01T11:39:11.205092Z",
     "iopub.status.idle": "2023-08-01T11:39:11.211069Z",
     "shell.execute_reply": "2023-08-01T11:39:11.210264Z"
    },
    "id": "KpSQmR12gKBr",
    "papermill": {
     "duration": 0.025253,
     "end_time": "2023-08-01T11:39:11.213133",
     "exception": false,
     "start_time": "2023-08-01T11:39:11.187880",
     "status": "completed"
    },
    "tags": []
   },
   "outputs": [],
   "source": [
    "# Make predictions on the test data and calculate the accuracy\n",
    "\n",
    "prediction_on_test_data = model.predict(X_test_features)\n",
    "accuracy_on_test_data = accuracy_score(Y_test,prediction_on_test_data)"
   ]
  },
  {
   "cell_type": "code",
   "execution_count": 58,
   "id": "9ff534ff",
   "metadata": {
    "execution": {
     "iopub.execute_input": "2023-08-01T11:39:11.246105Z",
     "iopub.status.busy": "2023-08-01T11:39:11.245098Z",
     "iopub.status.idle": "2023-08-01T11:39:11.251084Z",
     "shell.execute_reply": "2023-08-01T11:39:11.249832Z"
    },
    "id": "TRvKlCRTguSS",
    "outputId": "ad49b814-c15b-4766-afec-c4d3a53e551a",
    "papermill": {
     "duration": 0.025009,
     "end_time": "2023-08-01T11:39:11.253431",
     "exception": false,
     "start_time": "2023-08-01T11:39:11.228422",
     "status": "completed"
    },
    "tags": []
   },
   "outputs": [
    {
     "name": "stdout",
     "output_type": "stream",
     "text": [
      "Accuracy on test data: 0.9659192825112107\n"
     ]
    }
   ],
   "source": [
    "print(\"Accuracy on test data:\",accuracy_on_test_data)"
   ]
  },
  {
   "cell_type": "code",
   "execution_count": 59,
   "id": "093dab26",
   "metadata": {
    "execution": {
     "iopub.execute_input": "2023-08-01T11:39:11.287632Z",
     "iopub.status.busy": "2023-08-01T11:39:11.286808Z",
     "iopub.status.idle": "2023-08-01T11:39:11.296096Z",
     "shell.execute_reply": "2023-08-01T11:39:11.294832Z"
    },
    "id": "LFkVMpoRhGyf",
    "outputId": "854f93e6-7f17-4219-e028-3f1a228630f7",
    "papermill": {
     "duration": 0.028858,
     "end_time": "2023-08-01T11:39:11.298446",
     "exception": false,
     "start_time": "2023-08-01T11:39:11.269588",
     "status": "completed"
    },
    "tags": []
   },
   "outputs": [
    {
     "name": "stdout",
     "output_type": "stream",
     "text": [
      "[0]\n",
      "Spam Mail\n"
     ]
    }
   ],
   "source": [
    "# Test the model with some custom email messages\n",
    "\n",
    "input_your_mail = [\"Congratulations! You have won a free vacation to an exotic destination. Click the link to claim your prize now!\"]\n",
    "input_data_features = feature_extraction.transform(input_your_mail)\n",
    "prediction = model.predict(input_data_features)\n",
    "print(prediction)\n",
    "\n",
    "\n",
    "# Print the prediction result\n",
    "\n",
    "if (prediction)[0] == 1:\n",
    "  print(\"Ham Mail\")\n",
    "else:\n",
    "  print(\"Spam Mail\")"
   ]
  },
  {
   "cell_type": "code",
   "execution_count": 60,
   "id": "425285b4",
   "metadata": {
    "execution": {
     "iopub.execute_input": "2023-08-01T11:39:11.332584Z",
     "iopub.status.busy": "2023-08-01T11:39:11.331818Z",
     "iopub.status.idle": "2023-08-01T11:39:11.341479Z",
     "shell.execute_reply": "2023-08-01T11:39:11.340172Z"
    },
    "id": "X-XTOWXaii8C",
    "outputId": "f50d1d91-213f-4858-dc3c-cc54f7d02928",
    "papermill": {
     "duration": 0.029637,
     "end_time": "2023-08-01T11:39:11.343753",
     "exception": false,
     "start_time": "2023-08-01T11:39:11.314116",
     "status": "completed"
    },
    "tags": []
   },
   "outputs": [
    {
     "name": "stdout",
     "output_type": "stream",
     "text": [
      "[1]\n",
      "Ham Mail\n"
     ]
    }
   ],
   "source": [
    "# Test the model with some custom email messages\n",
    "\n",
    "input_your_mail = [\"Meeting reminder: Tomorrow, 10 AM, conference room. See you there!\"]\n",
    "input_data_features = feature_extraction.transform(input_your_mail)\n",
    "prediction = model.predict(input_data_features)\n",
    "print(prediction)\n",
    "\n",
    "\n",
    "# Print the prediction result\n",
    "\n",
    "if (prediction)[0] == 1:\n",
    "  print(\"Ham Mail\")\n",
    "else:\n",
    "  print(\"Spam Mail\")\n"
   ]
  },
  {
   "cell_type": "code",
   "execution_count": null,
   "id": "df4d8632",
   "metadata": {
    "papermill": {
     "duration": 0.018723,
     "end_time": "2023-08-01T11:39:13.037997",
     "exception": false,
     "start_time": "2023-08-01T11:39:13.019274",
     "status": "completed"
    },
    "tags": []
   },
   "outputs": [],
   "source": []
  }
 ],
 "metadata": {
  "kernelspec": {
   "display_name": "Python 3 (ipykernel)",
   "language": "python",
   "name": "python3"
  },
  "language_info": {
   "codemirror_mode": {
    "name": "ipython",
    "version": 3
   },
   "file_extension": ".py",
   "mimetype": "text/x-python",
   "name": "python",
   "nbconvert_exporter": "python",
   "pygments_lexer": "ipython3",
   "version": "3.10.9"
  },
  "papermill": {
   "default_parameters": {},
   "duration": 17.110263,
   "end_time": "2023-08-01T11:39:14.078663",
   "environment_variables": {},
   "exception": null,
   "input_path": "__notebook__.ipynb",
   "output_path": "__notebook__.ipynb",
   "parameters": {},
   "start_time": "2023-08-01T11:38:56.968400",
   "version": "2.4.0"
  }
 },
 "nbformat": 4,
 "nbformat_minor": 5
}
